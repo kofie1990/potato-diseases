{
  "nbformat": 4,
  "nbformat_minor": 0,
  "metadata": {
    "colab": {
      "provenance": [],
      "gpuType": "T4",
      "mount_file_id": "1Lg8b2h0L069m4OqMRLcDPIdXiWOqAiel",
      "authorship_tag": "ABX9TyML7w4JTwRKZ2VA/9l8nZ+H",
      "include_colab_link": true
    },
    "kernelspec": {
      "name": "python3",
      "display_name": "Python 3"
    },
    "language_info": {
      "name": "python"
    },
    "accelerator": "GPU"
  },
  "cells": [
    {
      "cell_type": "markdown",
      "metadata": {
        "id": "view-in-github",
        "colab_type": "text"
      },
      "source": [
        "<a href=\"https://colab.research.google.com/github/kofie1990/potato-diseases/blob/main/training.ipynb\" target=\"_parent\"><img src=\"https://colab.research.google.com/assets/colab-badge.svg\" alt=\"Open In Colab\"/></a>"
      ]
    },
    {
      "cell_type": "code",
      "source": [
        "!pip install tensorflow\n",
        "import tensorflow as tf\n",
        "from tensorflow.keras import models, layers\n",
        "import matplotlib.pyplot as plt"
      ],
      "metadata": {
        "id": "vdyPd_1kYwpq",
        "colab": {
          "base_uri": "https://localhost:8080/"
        },
        "outputId": "64cf6441-1cc6-48ce-fc86-7ddd16b595fc"
      },
      "execution_count": 1,
      "outputs": [
        {
          "output_type": "stream",
          "name": "stdout",
          "text": [
            "Requirement already satisfied: tensorflow in /usr/local/lib/python3.10/dist-packages (2.15.0)\n",
            "Requirement already satisfied: absl-py>=1.0.0 in /usr/local/lib/python3.10/dist-packages (from tensorflow) (1.4.0)\n",
            "Requirement already satisfied: astunparse>=1.6.0 in /usr/local/lib/python3.10/dist-packages (from tensorflow) (1.6.3)\n",
            "Requirement already satisfied: flatbuffers>=23.5.26 in /usr/local/lib/python3.10/dist-packages (from tensorflow) (24.3.6)\n",
            "Requirement already satisfied: gast!=0.5.0,!=0.5.1,!=0.5.2,>=0.2.1 in /usr/local/lib/python3.10/dist-packages (from tensorflow) (0.5.4)\n",
            "Requirement already satisfied: google-pasta>=0.1.1 in /usr/local/lib/python3.10/dist-packages (from tensorflow) (0.2.0)\n",
            "Requirement already satisfied: h5py>=2.9.0 in /usr/local/lib/python3.10/dist-packages (from tensorflow) (3.9.0)\n",
            "Requirement already satisfied: libclang>=13.0.0 in /usr/local/lib/python3.10/dist-packages (from tensorflow) (16.0.6)\n",
            "Requirement already satisfied: ml-dtypes~=0.2.0 in /usr/local/lib/python3.10/dist-packages (from tensorflow) (0.2.0)\n",
            "Requirement already satisfied: numpy<2.0.0,>=1.23.5 in /usr/local/lib/python3.10/dist-packages (from tensorflow) (1.25.2)\n",
            "Requirement already satisfied: opt-einsum>=2.3.2 in /usr/local/lib/python3.10/dist-packages (from tensorflow) (3.3.0)\n",
            "Requirement already satisfied: packaging in /usr/local/lib/python3.10/dist-packages (from tensorflow) (23.2)\n",
            "Requirement already satisfied: protobuf!=4.21.0,!=4.21.1,!=4.21.2,!=4.21.3,!=4.21.4,!=4.21.5,<5.0.0dev,>=3.20.3 in /usr/local/lib/python3.10/dist-packages (from tensorflow) (3.20.3)\n",
            "Requirement already satisfied: setuptools in /usr/local/lib/python3.10/dist-packages (from tensorflow) (67.7.2)\n",
            "Requirement already satisfied: six>=1.12.0 in /usr/local/lib/python3.10/dist-packages (from tensorflow) (1.16.0)\n",
            "Requirement already satisfied: termcolor>=1.1.0 in /usr/local/lib/python3.10/dist-packages (from tensorflow) (2.4.0)\n",
            "Requirement already satisfied: typing-extensions>=3.6.6 in /usr/local/lib/python3.10/dist-packages (from tensorflow) (4.10.0)\n",
            "Requirement already satisfied: wrapt<1.15,>=1.11.0 in /usr/local/lib/python3.10/dist-packages (from tensorflow) (1.14.1)\n",
            "Requirement already satisfied: tensorflow-io-gcs-filesystem>=0.23.1 in /usr/local/lib/python3.10/dist-packages (from tensorflow) (0.36.0)\n",
            "Requirement already satisfied: grpcio<2.0,>=1.24.3 in /usr/local/lib/python3.10/dist-packages (from tensorflow) (1.62.0)\n",
            "Requirement already satisfied: tensorboard<2.16,>=2.15 in /usr/local/lib/python3.10/dist-packages (from tensorflow) (2.15.2)\n",
            "Requirement already satisfied: tensorflow-estimator<2.16,>=2.15.0 in /usr/local/lib/python3.10/dist-packages (from tensorflow) (2.15.0)\n",
            "Requirement already satisfied: keras<2.16,>=2.15.0 in /usr/local/lib/python3.10/dist-packages (from tensorflow) (2.15.0)\n",
            "Requirement already satisfied: wheel<1.0,>=0.23.0 in /usr/local/lib/python3.10/dist-packages (from astunparse>=1.6.0->tensorflow) (0.42.0)\n",
            "Requirement already satisfied: google-auth<3,>=1.6.3 in /usr/local/lib/python3.10/dist-packages (from tensorboard<2.16,>=2.15->tensorflow) (2.27.0)\n",
            "Requirement already satisfied: google-auth-oauthlib<2,>=0.5 in /usr/local/lib/python3.10/dist-packages (from tensorboard<2.16,>=2.15->tensorflow) (1.2.0)\n",
            "Requirement already satisfied: markdown>=2.6.8 in /usr/local/lib/python3.10/dist-packages (from tensorboard<2.16,>=2.15->tensorflow) (3.5.2)\n",
            "Requirement already satisfied: requests<3,>=2.21.0 in /usr/local/lib/python3.10/dist-packages (from tensorboard<2.16,>=2.15->tensorflow) (2.31.0)\n",
            "Requirement already satisfied: tensorboard-data-server<0.8.0,>=0.7.0 in /usr/local/lib/python3.10/dist-packages (from tensorboard<2.16,>=2.15->tensorflow) (0.7.2)\n",
            "Requirement already satisfied: werkzeug>=1.0.1 in /usr/local/lib/python3.10/dist-packages (from tensorboard<2.16,>=2.15->tensorflow) (3.0.1)\n",
            "Requirement already satisfied: cachetools<6.0,>=2.0.0 in /usr/local/lib/python3.10/dist-packages (from google-auth<3,>=1.6.3->tensorboard<2.16,>=2.15->tensorflow) (5.3.3)\n",
            "Requirement already satisfied: pyasn1-modules>=0.2.1 in /usr/local/lib/python3.10/dist-packages (from google-auth<3,>=1.6.3->tensorboard<2.16,>=2.15->tensorflow) (0.3.0)\n",
            "Requirement already satisfied: rsa<5,>=3.1.4 in /usr/local/lib/python3.10/dist-packages (from google-auth<3,>=1.6.3->tensorboard<2.16,>=2.15->tensorflow) (4.9)\n",
            "Requirement already satisfied: requests-oauthlib>=0.7.0 in /usr/local/lib/python3.10/dist-packages (from google-auth-oauthlib<2,>=0.5->tensorboard<2.16,>=2.15->tensorflow) (1.3.1)\n",
            "Requirement already satisfied: charset-normalizer<4,>=2 in /usr/local/lib/python3.10/dist-packages (from requests<3,>=2.21.0->tensorboard<2.16,>=2.15->tensorflow) (3.3.2)\n",
            "Requirement already satisfied: idna<4,>=2.5 in /usr/local/lib/python3.10/dist-packages (from requests<3,>=2.21.0->tensorboard<2.16,>=2.15->tensorflow) (3.6)\n",
            "Requirement already satisfied: urllib3<3,>=1.21.1 in /usr/local/lib/python3.10/dist-packages (from requests<3,>=2.21.0->tensorboard<2.16,>=2.15->tensorflow) (2.0.7)\n",
            "Requirement already satisfied: certifi>=2017.4.17 in /usr/local/lib/python3.10/dist-packages (from requests<3,>=2.21.0->tensorboard<2.16,>=2.15->tensorflow) (2024.2.2)\n",
            "Requirement already satisfied: MarkupSafe>=2.1.1 in /usr/local/lib/python3.10/dist-packages (from werkzeug>=1.0.1->tensorboard<2.16,>=2.15->tensorflow) (2.1.5)\n",
            "Requirement already satisfied: pyasn1<0.6.0,>=0.4.6 in /usr/local/lib/python3.10/dist-packages (from pyasn1-modules>=0.2.1->google-auth<3,>=1.6.3->tensorboard<2.16,>=2.15->tensorflow) (0.5.1)\n",
            "Requirement already satisfied: oauthlib>=3.0.0 in /usr/local/lib/python3.10/dist-packages (from requests-oauthlib>=0.7.0->google-auth-oauthlib<2,>=0.5->tensorboard<2.16,>=2.15->tensorflow) (3.2.2)\n"
          ]
        }
      ]
    },
    {
      "cell_type": "code",
      "source": [
        "IMAGE_SIZE = 256\n",
        "BATCH_SIZE = 32\n",
        "CHANNELS = 3\n",
        "EPOCHS = 50"
      ],
      "metadata": {
        "id": "FtC2I9JcamEZ"
      },
      "execution_count": 2,
      "outputs": []
    },
    {
      "cell_type": "code",
      "source": [
        "dataset = tf.keras.preprocessing.image_dataset_from_directory(\n",
        "    \"/content/drive/MyDrive/PlantVillage\",\n",
        "    shuffle=True,\n",
        "    image_size=(IMAGE_SIZE, IMAGE_SIZE),\n",
        "    batch_size=BATCH_SIZE,\n",
        ")"
      ],
      "metadata": {
        "id": "rPWF6S3ZaOOU",
        "colab": {
          "base_uri": "https://localhost:8080/"
        },
        "outputId": "b6dde5d1-64a6-4e75-996b-0f79e87cc5ec"
      },
      "execution_count": 3,
      "outputs": [
        {
          "output_type": "stream",
          "name": "stdout",
          "text": [
            "Found 2152 files belonging to 3 classes.\n"
          ]
        }
      ]
    },
    {
      "cell_type": "code",
      "source": [
        "class_names = dataset.class_names\n",
        "class_names"
      ],
      "metadata": {
        "id": "6zTBZU7UcuCZ",
        "colab": {
          "base_uri": "https://localhost:8080/"
        },
        "outputId": "e0d5dc25-aef2-4d41-a658-431c6cef0ba8"
      },
      "execution_count": 4,
      "outputs": [
        {
          "output_type": "execute_result",
          "data": {
            "text/plain": [
              "['Potato___Early_blight', 'Potato___Late_blight', 'Potato___healthy']"
            ]
          },
          "metadata": {},
          "execution_count": 4
        }
      ]
    },
    {
      "cell_type": "code",
      "source": [
        "train_size = 0.8\n",
        "len(dataset) * train_size"
      ],
      "metadata": {
        "id": "Jns0cqU6jLgY",
        "colab": {
          "base_uri": "https://localhost:8080/"
        },
        "outputId": "b21a3296-9e40-4140-8c57-8ab2615c64f5"
      },
      "execution_count": 5,
      "outputs": [
        {
          "output_type": "execute_result",
          "data": {
            "text/plain": [
              "54.400000000000006"
            ]
          },
          "metadata": {},
          "execution_count": 5
        }
      ]
    },
    {
      "cell_type": "code",
      "source": [
        "train_ds = dataset.take(54)\n",
        "len(train_ds)"
      ],
      "metadata": {
        "id": "lW-PKo8ekIKw",
        "colab": {
          "base_uri": "https://localhost:8080/"
        },
        "outputId": "65c2ccb9-f605-4d2d-89ef-ae30b4527e0c"
      },
      "execution_count": 6,
      "outputs": [
        {
          "output_type": "execute_result",
          "data": {
            "text/plain": [
              "54"
            ]
          },
          "metadata": {},
          "execution_count": 6
        }
      ]
    },
    {
      "cell_type": "code",
      "source": [
        "test_ds = dataset.skip(54)\n",
        "len(dataset) * 0.1"
      ],
      "metadata": {
        "id": "WQOb5Y2Sj-F8",
        "colab": {
          "base_uri": "https://localhost:8080/"
        },
        "outputId": "0e5e0d02-5e33-4eba-9622-8f131cda763e"
      },
      "execution_count": 7,
      "outputs": [
        {
          "output_type": "execute_result",
          "data": {
            "text/plain": [
              "6.800000000000001"
            ]
          },
          "metadata": {},
          "execution_count": 7
        }
      ]
    },
    {
      "cell_type": "code",
      "source": [
        "val_ds = test_ds.take(6)\n",
        "len(val_ds)"
      ],
      "metadata": {
        "id": "ruYSADGnlBsV",
        "colab": {
          "base_uri": "https://localhost:8080/"
        },
        "outputId": "05273931-c7a1-4a62-c043-e85c43624ef0"
      },
      "execution_count": 8,
      "outputs": [
        {
          "output_type": "execute_result",
          "data": {
            "text/plain": [
              "6"
            ]
          },
          "metadata": {},
          "execution_count": 8
        }
      ]
    },
    {
      "cell_type": "code",
      "source": [
        "test_ds = test_ds.skip(6)\n",
        "len(test_ds)"
      ],
      "metadata": {
        "id": "gnHC1nIOlOiO",
        "colab": {
          "base_uri": "https://localhost:8080/"
        },
        "outputId": "9672a7a8-6b11-4f10-d29a-c457fcded954"
      },
      "execution_count": 9,
      "outputs": [
        {
          "output_type": "execute_result",
          "data": {
            "text/plain": [
              "8"
            ]
          },
          "metadata": {},
          "execution_count": 9
        }
      ]
    },
    {
      "cell_type": "code",
      "source": [
        "def get_dataset_partitions_tf(ds, train_split = 0.8, val_split=0.1, test_split=0.1,shuffle=True, shuffle_size=10000):\n",
        "  ds_size = len(ds)\n",
        "\n",
        "  if shuffle:\n",
        "    ds = ds.shuffle(shuffle_size, seed=12)\n",
        "\n",
        "  train_size = int(train_split * ds_size)\n",
        "  val_size = int(val_split * ds_size)\n",
        "\n",
        "  train_ds = ds.take(train_size)\n",
        "\n",
        "  val_ds  = ds.skip(train_size).take(val_size)\n",
        "  test_ds  = ds.skip(train_size).skip(val_size)\n",
        "\n",
        "  return train_ds, val_ds, test_ds"
      ],
      "metadata": {
        "id": "Yg3sHh6RlfFn"
      },
      "execution_count": 10,
      "outputs": []
    },
    {
      "cell_type": "code",
      "source": [
        "train_ds, val_ds, test_ds = get_dataset_partitions_tf(dataset)"
      ],
      "metadata": {
        "id": "gCL-eCIHnN59"
      },
      "execution_count": 11,
      "outputs": []
    },
    {
      "cell_type": "code",
      "source": [
        "train_ds = train_ds.cache().shuffle(1000).prefetch(buffer_size=tf.data.AUTOTUNE)\n",
        "val_ds = val_ds.cache().shuffle(1000).prefetch(buffer_size=tf.data.AUTOTUNE)\n",
        "test_ds = test_ds.cache().shuffle(1000).prefetch(buffer_size=tf.data.AUTOTUNE)"
      ],
      "metadata": {
        "id": "iS_n9DVnWn50"
      },
      "execution_count": 12,
      "outputs": []
    },
    {
      "cell_type": "code",
      "source": [
        "resize_and_rescale = tf.keras.Sequential([\n",
        "    layers.experimental.preprocessing.Resizing(IMAGE_SIZE, IMAGE_SIZE),\n",
        "    layers.experimental.preprocessing.Rescaling(1.0/255)\n",
        "])"
      ],
      "metadata": {
        "id": "NdE1IhJvoWsH"
      },
      "execution_count": 13,
      "outputs": []
    },
    {
      "cell_type": "code",
      "source": [
        "data_augmentation = tf.keras.Sequential([\n",
        "    layers.experimental.preprocessing.RandomFlip(\"horizontal_and_vertical\"),\n",
        "    layers.experimental.preprocessing.RandomRotation(0.2),\n",
        "])"
      ],
      "metadata": {
        "id": "5zQGI7S0Y5th"
      },
      "execution_count": 14,
      "outputs": []
    },
    {
      "cell_type": "code",
      "source": [
        "input_shape = (BATCH_SIZE, IMAGE_SIZE, IMAGE_SIZE, CHANNELS)\n",
        "n_classes = 3\n",
        "\n",
        "model = models.Sequential([\n",
        "    resize_and_rescale,\n",
        "    data_augmentation,\n",
        "    layers.Conv2D(32, (3,3), activation='relu', input_shape= input_shape),\n",
        "    layers.MaxPooling2D((2,2)),\n",
        "    layers.Conv2D(64, kernel_size = (3,3), activation='relu'),\n",
        "    layers.MaxPooling2D((2,2)),\n",
        "    layers.Conv2D(64, kernel_size = (3,3), activation='relu'),\n",
        "    layers.MaxPooling2D((2,2)),\n",
        "    layers.Conv2D(64,(3,3), activation='relu'),\n",
        "    layers.MaxPooling2D((2,2)),\n",
        "    layers.Conv2D(64,(3,3), activation='relu'),\n",
        "    layers.MaxPooling2D((2,2)),\n",
        "    layers.Conv2D(64,(3,3), activation='relu'),\n",
        "    layers.MaxPooling2D((2,2)),\n",
        "    layers.Flatten(),\n",
        "    layers.Dense(64, activation='relu'),\n",
        "    layers.Dense(n_classes, activation='softmax'),\n",
        "])\n",
        "\n",
        "model.build(input_shape=input_shape)"
      ],
      "metadata": {
        "id": "UlnkaZg3ba3R"
      },
      "execution_count": 15,
      "outputs": []
    },
    {
      "cell_type": "code",
      "source": [
        "model.summary()"
      ],
      "metadata": {
        "colab": {
          "base_uri": "https://localhost:8080/"
        },
        "id": "aWkbM9rpgzVB",
        "outputId": "7092a693-5642-4830-87eb-22e79054b548"
      },
      "execution_count": 16,
      "outputs": [
        {
          "output_type": "stream",
          "name": "stdout",
          "text": [
            "Model: \"sequential_2\"\n",
            "_________________________________________________________________\n",
            " Layer (type)                Output Shape              Param #   \n",
            "=================================================================\n",
            " sequential (Sequential)     (32, 256, 256, 3)         0         \n",
            "                                                                 \n",
            " sequential_1 (Sequential)   (32, 256, 256, 3)         0         \n",
            "                                                                 \n",
            " conv2d (Conv2D)             (32, 254, 254, 32)        896       \n",
            "                                                                 \n",
            " max_pooling2d (MaxPooling2  (32, 127, 127, 32)        0         \n",
            " D)                                                              \n",
            "                                                                 \n",
            " conv2d_1 (Conv2D)           (32, 125, 125, 64)        18496     \n",
            "                                                                 \n",
            " max_pooling2d_1 (MaxPoolin  (32, 62, 62, 64)          0         \n",
            " g2D)                                                            \n",
            "                                                                 \n",
            " conv2d_2 (Conv2D)           (32, 60, 60, 64)          36928     \n",
            "                                                                 \n",
            " max_pooling2d_2 (MaxPoolin  (32, 30, 30, 64)          0         \n",
            " g2D)                                                            \n",
            "                                                                 \n",
            " conv2d_3 (Conv2D)           (32, 28, 28, 64)          36928     \n",
            "                                                                 \n",
            " max_pooling2d_3 (MaxPoolin  (32, 14, 14, 64)          0         \n",
            " g2D)                                                            \n",
            "                                                                 \n",
            " conv2d_4 (Conv2D)           (32, 12, 12, 64)          36928     \n",
            "                                                                 \n",
            " max_pooling2d_4 (MaxPoolin  (32, 6, 6, 64)            0         \n",
            " g2D)                                                            \n",
            "                                                                 \n",
            " conv2d_5 (Conv2D)           (32, 4, 4, 64)            36928     \n",
            "                                                                 \n",
            " max_pooling2d_5 (MaxPoolin  (32, 2, 2, 64)            0         \n",
            " g2D)                                                            \n",
            "                                                                 \n",
            " flatten (Flatten)           (32, 256)                 0         \n",
            "                                                                 \n",
            " dense (Dense)               (32, 64)                  16448     \n",
            "                                                                 \n",
            " dense_1 (Dense)             (32, 3)                   195       \n",
            "                                                                 \n",
            "=================================================================\n",
            "Total params: 183747 (717.76 KB)\n",
            "Trainable params: 183747 (717.76 KB)\n",
            "Non-trainable params: 0 (0.00 Byte)\n",
            "_________________________________________________________________\n"
          ]
        }
      ]
    },
    {
      "cell_type": "code",
      "source": [
        "model.compile(\n",
        "    optimizer='adam',\n",
        "    loss=tf.keras.losses.SparseCategoricalCrossentropy(from_logits=False),\n",
        "    metrics=['accuracy']\n",
        ")"
      ],
      "metadata": {
        "id": "vc7lo32ag-nb"
      },
      "execution_count": 17,
      "outputs": []
    },
    {
      "cell_type": "code",
      "source": [
        "history = model.fit(\n",
        "    train_ds,\n",
        "    epochs=EPOCHS,\n",
        "    batch_size=BATCH_SIZE,\n",
        "    verbose=1,\n",
        "    validation_data=val_ds\n",
        ")"
      ],
      "metadata": {
        "colab": {
          "base_uri": "https://localhost:8080/"
        },
        "id": "aKBofhOrhSbb",
        "outputId": "d5d2c91e-e061-4983-fa18-fbe813937519"
      },
      "execution_count": 18,
      "outputs": [
        {
          "output_type": "stream",
          "name": "stdout",
          "text": [
            "Epoch 1/50\n",
            "54/54 [==============================] - 361s 175ms/step - loss: 0.9163 - accuracy: 0.5069 - val_loss: 0.9705 - val_accuracy: 0.4271\n",
            "Epoch 2/50\n",
            "54/54 [==============================] - 3s 62ms/step - loss: 0.6996 - accuracy: 0.6713 - val_loss: 0.6124 - val_accuracy: 0.7396\n",
            "Epoch 3/50\n",
            "54/54 [==============================] - 3s 59ms/step - loss: 0.3824 - accuracy: 0.8449 - val_loss: 0.2067 - val_accuracy: 0.9219\n",
            "Epoch 4/50\n",
            "54/54 [==============================] - 3s 59ms/step - loss: 0.2076 - accuracy: 0.9277 - val_loss: 0.8857 - val_accuracy: 0.7240\n",
            "Epoch 5/50\n",
            "54/54 [==============================] - 3s 62ms/step - loss: 0.2165 - accuracy: 0.9155 - val_loss: 0.2533 - val_accuracy: 0.9062\n",
            "Epoch 6/50\n",
            "54/54 [==============================] - 3s 60ms/step - loss: 0.1602 - accuracy: 0.9450 - val_loss: 0.4751 - val_accuracy: 0.8125\n",
            "Epoch 7/50\n",
            "54/54 [==============================] - 3s 59ms/step - loss: 0.1337 - accuracy: 0.9514 - val_loss: 0.2310 - val_accuracy: 0.9062\n",
            "Epoch 8/50\n",
            "54/54 [==============================] - 3s 59ms/step - loss: 0.0988 - accuracy: 0.9641 - val_loss: 0.1171 - val_accuracy: 0.9531\n",
            "Epoch 9/50\n",
            "54/54 [==============================] - 3s 60ms/step - loss: 0.0945 - accuracy: 0.9624 - val_loss: 0.1876 - val_accuracy: 0.9323\n",
            "Epoch 10/50\n",
            "54/54 [==============================] - 3s 61ms/step - loss: 0.0733 - accuracy: 0.9693 - val_loss: 0.0748 - val_accuracy: 0.9635\n",
            "Epoch 11/50\n",
            "54/54 [==============================] - 3s 61ms/step - loss: 0.0664 - accuracy: 0.9722 - val_loss: 0.2349 - val_accuracy: 0.9167\n",
            "Epoch 12/50\n",
            "54/54 [==============================] - 3s 60ms/step - loss: 0.0525 - accuracy: 0.9832 - val_loss: 0.2284 - val_accuracy: 0.9271\n",
            "Epoch 13/50\n",
            "54/54 [==============================] - 3s 61ms/step - loss: 0.0447 - accuracy: 0.9821 - val_loss: 0.0608 - val_accuracy: 0.9792\n",
            "Epoch 14/50\n",
            "54/54 [==============================] - 3s 59ms/step - loss: 0.0457 - accuracy: 0.9844 - val_loss: 0.0868 - val_accuracy: 0.9688\n",
            "Epoch 15/50\n",
            "54/54 [==============================] - 3s 59ms/step - loss: 0.0756 - accuracy: 0.9711 - val_loss: 0.1651 - val_accuracy: 0.9531\n",
            "Epoch 16/50\n",
            "54/54 [==============================] - 3s 61ms/step - loss: 0.0395 - accuracy: 0.9861 - val_loss: 0.1483 - val_accuracy: 0.9583\n",
            "Epoch 17/50\n",
            "54/54 [==============================] - 3s 60ms/step - loss: 0.1011 - accuracy: 0.9670 - val_loss: 0.0756 - val_accuracy: 0.9740\n",
            "Epoch 18/50\n",
            "54/54 [==============================] - 3s 60ms/step - loss: 0.0794 - accuracy: 0.9740 - val_loss: 1.0119 - val_accuracy: 0.7083\n",
            "Epoch 19/50\n",
            "54/54 [==============================] - 3s 63ms/step - loss: 0.0997 - accuracy: 0.9647 - val_loss: 0.0398 - val_accuracy: 0.9844\n",
            "Epoch 20/50\n",
            "54/54 [==============================] - 3s 60ms/step - loss: 0.0497 - accuracy: 0.9797 - val_loss: 0.1503 - val_accuracy: 0.9531\n",
            "Epoch 21/50\n",
            "54/54 [==============================] - 3s 61ms/step - loss: 0.0549 - accuracy: 0.9786 - val_loss: 0.1793 - val_accuracy: 0.9583\n",
            "Epoch 22/50\n",
            "54/54 [==============================] - 3s 61ms/step - loss: 0.0408 - accuracy: 0.9809 - val_loss: 0.0403 - val_accuracy: 0.9896\n",
            "Epoch 23/50\n",
            "54/54 [==============================] - 3s 61ms/step - loss: 0.0469 - accuracy: 0.9873 - val_loss: 0.0520 - val_accuracy: 0.9792\n",
            "Epoch 24/50\n",
            "54/54 [==============================] - 3s 61ms/step - loss: 0.0206 - accuracy: 0.9925 - val_loss: 0.0919 - val_accuracy: 0.9740\n",
            "Epoch 25/50\n",
            "54/54 [==============================] - 3s 60ms/step - loss: 0.0331 - accuracy: 0.9878 - val_loss: 0.2474 - val_accuracy: 0.9167\n",
            "Epoch 26/50\n",
            "54/54 [==============================] - 3s 62ms/step - loss: 0.0898 - accuracy: 0.9653 - val_loss: 0.1380 - val_accuracy: 0.9531\n",
            "Epoch 27/50\n",
            "54/54 [==============================] - 3s 60ms/step - loss: 0.0310 - accuracy: 0.9907 - val_loss: 0.0838 - val_accuracy: 0.9792\n",
            "Epoch 28/50\n",
            "54/54 [==============================] - 3s 59ms/step - loss: 0.0277 - accuracy: 0.9890 - val_loss: 0.1072 - val_accuracy: 0.9583\n",
            "Epoch 29/50\n",
            "54/54 [==============================] - 3s 59ms/step - loss: 0.0402 - accuracy: 0.9913 - val_loss: 0.0366 - val_accuracy: 0.9896\n",
            "Epoch 30/50\n",
            "54/54 [==============================] - 3s 60ms/step - loss: 0.0269 - accuracy: 0.9907 - val_loss: 0.0903 - val_accuracy: 0.9583\n",
            "Epoch 31/50\n",
            "54/54 [==============================] - 3s 61ms/step - loss: 0.0287 - accuracy: 0.9925 - val_loss: 0.1791 - val_accuracy: 0.9323\n",
            "Epoch 32/50\n",
            "54/54 [==============================] - 3s 61ms/step - loss: 0.0265 - accuracy: 0.9913 - val_loss: 0.0224 - val_accuracy: 0.9844\n",
            "Epoch 33/50\n",
            "54/54 [==============================] - 3s 60ms/step - loss: 0.0440 - accuracy: 0.9867 - val_loss: 0.0262 - val_accuracy: 0.9844\n",
            "Epoch 34/50\n",
            "54/54 [==============================] - 3s 59ms/step - loss: 0.0400 - accuracy: 0.9884 - val_loss: 0.0220 - val_accuracy: 0.9896\n",
            "Epoch 35/50\n",
            "54/54 [==============================] - 3s 60ms/step - loss: 0.0240 - accuracy: 0.9925 - val_loss: 0.0258 - val_accuracy: 0.9896\n",
            "Epoch 36/50\n",
            "54/54 [==============================] - 3s 62ms/step - loss: 0.0694 - accuracy: 0.9763 - val_loss: 0.1159 - val_accuracy: 0.9531\n",
            "Epoch 37/50\n",
            "54/54 [==============================] - 3s 60ms/step - loss: 0.0311 - accuracy: 0.9873 - val_loss: 0.1083 - val_accuracy: 0.9740\n",
            "Epoch 38/50\n",
            "54/54 [==============================] - 3s 59ms/step - loss: 0.0237 - accuracy: 0.9925 - val_loss: 0.0399 - val_accuracy: 0.9740\n",
            "Epoch 39/50\n",
            "54/54 [==============================] - 3s 60ms/step - loss: 0.0250 - accuracy: 0.9907 - val_loss: 0.0250 - val_accuracy: 0.9948\n",
            "Epoch 40/50\n",
            "54/54 [==============================] - 3s 62ms/step - loss: 0.0115 - accuracy: 0.9959 - val_loss: 0.0439 - val_accuracy: 0.9844\n",
            "Epoch 41/50\n",
            "54/54 [==============================] - 3s 61ms/step - loss: 0.0197 - accuracy: 0.9913 - val_loss: 0.1512 - val_accuracy: 0.9583\n",
            "Epoch 42/50\n",
            "54/54 [==============================] - 3s 59ms/step - loss: 0.0242 - accuracy: 0.9925 - val_loss: 0.0676 - val_accuracy: 0.9792\n",
            "Epoch 43/50\n",
            "54/54 [==============================] - 3s 61ms/step - loss: 0.0348 - accuracy: 0.9884 - val_loss: 0.0304 - val_accuracy: 0.9896\n",
            "Epoch 44/50\n",
            "54/54 [==============================] - 3s 60ms/step - loss: 0.0290 - accuracy: 0.9907 - val_loss: 0.0800 - val_accuracy: 0.9688\n",
            "Epoch 45/50\n",
            "54/54 [==============================] - 3s 59ms/step - loss: 0.0191 - accuracy: 0.9925 - val_loss: 0.0896 - val_accuracy: 0.9792\n",
            "Epoch 46/50\n",
            "54/54 [==============================] - 3s 59ms/step - loss: 0.0198 - accuracy: 0.9936 - val_loss: 0.0181 - val_accuracy: 0.9948\n",
            "Epoch 47/50\n",
            "54/54 [==============================] - 3s 62ms/step - loss: 0.0192 - accuracy: 0.9925 - val_loss: 0.0926 - val_accuracy: 0.9688\n",
            "Epoch 48/50\n",
            "54/54 [==============================] - 3s 60ms/step - loss: 0.0304 - accuracy: 0.9919 - val_loss: 0.0257 - val_accuracy: 0.9948\n",
            "Epoch 49/50\n",
            "54/54 [==============================] - 3s 60ms/step - loss: 0.0587 - accuracy: 0.9826 - val_loss: 0.1496 - val_accuracy: 0.9271\n",
            "Epoch 50/50\n",
            "54/54 [==============================] - 3s 61ms/step - loss: 0.0249 - accuracy: 0.9907 - val_loss: 0.0588 - val_accuracy: 0.9688\n"
          ]
        }
      ]
    },
    {
      "cell_type": "code",
      "source": [
        "model.evaluate(test_ds)"
      ],
      "metadata": {
        "colab": {
          "base_uri": "https://localhost:8080/"
        },
        "id": "iNvoFRh8ksOx",
        "outputId": "768e1093-1a85-496d-8bec-c037300b4483"
      },
      "execution_count": 19,
      "outputs": [
        {
          "output_type": "stream",
          "name": "stdout",
          "text": [
            "8/8 [==============================] - 6s 27ms/step - loss: 0.0224 - accuracy: 0.9922\n"
          ]
        },
        {
          "output_type": "execute_result",
          "data": {
            "text/plain": [
              "[0.022409584373235703, 0.9921875]"
            ]
          },
          "metadata": {},
          "execution_count": 19
        }
      ]
    }
  ]
}