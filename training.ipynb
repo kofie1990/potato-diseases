{
  "nbformat": 4,
  "nbformat_minor": 0,
  "metadata": {
    "colab": {
      "provenance": [],
      "mount_file_id": "1Lg8b2h0L069m4OqMRLcDPIdXiWOqAiel",
      "authorship_tag": "ABX9TyPAIjjRmmoK92Xmk71OYtce"
    },
    "kernelspec": {
      "name": "python3",
      "display_name": "Python 3"
    },
    "language_info": {
      "name": "python"
    }
  },
  "cells": [
    {
      "cell_type": "code",
      "source": [
        "import tensorflow"
      ],
      "metadata": {
        "id": "vdyPd_1kYwpq"
      },
      "execution_count": null,
      "outputs": []
    }
  ]
}